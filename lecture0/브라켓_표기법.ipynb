{
 "cells": [
  {
   "cell_type": "markdown",
   "metadata": {},
   "source": [
    "# Qiskit을 배우기 전에\n",
    "\n",
    "## 선형대수학\n",
    "\n",
    "### bra-ket notation\n",
    "\n",
    "양자의 상태를 나타내는 2차원 벡터 표기라는데,\n",
    "\n",
    "$ X = \\begin{bmatrix} 0 & 1 \\\\ 1 & 0 \\end{bmatrix} = |0\\rangle\\langle1| + |1\\rangle\\langle0| $\n",
    "\n",
    "수식이 왜 이렇게 되는지 모르겠다(...)\n",
    "\n",
    "다른 블로그를 찾아보니까 대충 알 것 같다.\n",
    "\n",
    "> https://dohunkim.tistory.com/19\n",
    "\n",
    "### ket\n",
    "\n",
    "> $ \\left| a \\right> = \\begin{pmatrix} a_1 \\\\ a_2 \\end{pmatrix} $\n",
    "\n",
    "$ \\left| 0 \\right> = \\begin{pmatrix} 1 \\\\ 0 \\end{pmatrix} $, $ \\left| 1 \\right> = \\begin{pmatrix} 0 \\\\ 1 \\end{pmatrix} $\n",
    "\n",
    "### bra\n",
    "\n",
    "> $ \\left< b \\right| = \\left| b \\right>^\\dagger = \\begin{pmatrix} b_1 \\\\ b_2 \\end{pmatrix}^\\dagger = \\begin{pmatrix} b_1^* & b_2^* \\end{pmatrix} $\n",
    "\n",
    "여기서 $^\\dagger$는 켤레 전치 행렬을 뜻하고, 그냥 전치 행렬을 표시하는 $^T$랑은 다르다.\n",
    "\n",
    "켤레라는 의미는 행렬 요소에 복소수가 있으면 그 켤레 복소수(복소수 부분의 부호를 반대로)로 바꾸는 것이다.\n",
    "\n",
    "아직까지 복소수는 등장하지 않았고 0이나 1밖에 없는 것 같은데, 그런 경우에는 복소수가 없어서 그냥 전치 행렬과 똑같은 것 같다.\n",
    "\n",
    "### bra-ket\n",
    "\n",
    "> $ \\left< b \\middle| a \\right>= a_1b_1^*+a_2b_2^* = \\left< a \\middle| b \\right>^* $\n",
    "\n",
    "그 자체로 벡터 내적 계산을 나타내며, 결과는 스칼라 값이다.\n",
    "\n",
    "### ket-bra\n",
    "\n",
    "> $ |a\\rangle\\langle b|=\\begin{pmatrix} a_1b_1^* & a_1b_2^* \\\\ a_2b_1^* & a_2b_2^* \\end{pmatrix} $\n",
    "\n",
    "이게 행렬의 곱을 표현하는 건데, 문제는 내가 알고 있는 (행벡터)(열벡터)로 되어 있지 않고, (열벡터)(행벡터)로 되어 있어서 어떻게 곱해야 하는지 잘 모르겠다.\n",
    "\n",
    "이것도 왜 이렇게 되는지 유도하기가 어렵다.\n",
    "\n",
    "그냥 외워야 되는건가 (...)\n",
    "\n",
    "$ |0\\rangle\\langle1| + |1\\rangle\\langle0| = \\begin{pmatrix} 1 \\\\ 0 \\end{pmatrix} \\begin{pmatrix} 0 && 1 \\end{pmatrix} + \\begin{pmatrix} 0 \\\\ 1 \\end{pmatrix} \\begin{pmatrix} 1 && 0 \\end{pmatrix} = \\begin{pmatrix} 0 & 1 \\\\ 0 & 0 \\end{pmatrix} + \\begin{pmatrix} 0 & 0 \\\\ 1 & 0 \\end{pmatrix} = \\begin{pmatrix} 0 & 1 \\\\ 1 & 0 \\end{pmatrix} $"
   ]
  },
  {
   "cell_type": "markdown",
   "metadata": {},
   "source": [
    "## References\n",
    "\n",
    "A047 브라켓 표기법\n",
    "\n",
    "- https://www.youtube.com/watch?v=YxbAFaDHgqo\n",
    "- https://www.youtube.com/watch?v=3U5cCvz2T4c\n"
   ]
  }
 ],
 "metadata": {
  "kernelspec": {
   "display_name": ".venv",
   "language": "python",
   "name": "python3"
  },
  "language_info": {
   "name": "python",
   "version": "3.8.18"
  }
 },
 "nbformat": 4,
 "nbformat_minor": 2
}
